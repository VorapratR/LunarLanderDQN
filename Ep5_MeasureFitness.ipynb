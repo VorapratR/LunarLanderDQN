{
 "cells": [
  {
   "cell_type": "markdown",
   "metadata": {},
   "source": [
    "# Episode 5 - Measure Fitness\n",
    "\tหลังจากทดสอบผลลัพธ์ของ AI ที่ Train แล้วขั้นตอนที่สุดที่ขาดเสียไม่ได้เลยก็คือ การประเมินผลของการ Train ของ AI เพื่อวัดว่า AI ประสิทธิภาพแต่ไหน หรือ AI Fitness แล้วหรือไม่โดยมีตัวอย่างผลการประเมินดังนี้  "
   ]
  },
  {
   "cell_type": "code",
   "execution_count": null,
   "metadata": {},
   "outputs": [],
   "source": [
    "import gym\n",
    "import numpy as np\n",
    "from gymclass import Notebook\n",
    "%matplotlib inline"
   ]
  },
  {
   "cell_type": "code",
   "execution_count": null,
   "metadata": {},
   "outputs": [],
   "source": [
    "env = gym.make(\"LunarLander-v2\")\n",
    "env = env.unwrapped\n",
    "env.seed(1)"
   ]
  },
  {
   "cell_type": "code",
   "execution_count": null,
   "metadata": {},
   "outputs": [],
   "source": [
    "%%time\n",
    "import time\n",
    "from dqn_agent import DQNAgent\n",
    "\n",
    "\n",
    "agent = DQNAgent(state_size=8, action_size=4, seed=0, hidden_layer1=64, hidden_layer2=108)\n",
    "\n",
    "\n",
    "# Load ข้อมูลการ train จาก ep3 \n",
    "\n",
    "load_path = \"output/LunarLander-Train-Results.ckpt\"\n",
    "agent.load(load_path)\n",
    "\n",
    "\n",
    "steps = 1000\n",
    "episode_rewards = [] \n",
    "episodes = 500\n",
    "\n",
    "observation = env.reset()\n",
    "for ep in Notebook.log_progress(range(episodes)):\n",
    "    episode_reward = 0.0\n",
    "    observation = env.reset()\n",
    "    tic = time.perf_counter() \n",
    "    for t in range(steps):\n",
    "        action = agent.act(observation)\n",
    "        observation, reward, done, info = env.step(action)\n",
    "        episode_reward += reward\n",
    "\n",
    "        # Oops Crashed or flew away, stops early \n",
    "        if episode_reward<-250:\n",
    "            done = True\n",
    "        if done:\n",
    "            break\n",
    "    episode_rewards.append(episode_reward)\n",
    "    \n",
    "    \n",
    "overall_average_reward = np.mean(episode_rewards)\n",
    "overall_std_reward = np.std(episode_rewards)\n",
    "print(\"100 Tries Average Reward=\", overall_average_reward)\n",
    "print(\"100 Tries Reward Standard Deviation=\", overall_std_reward)\n",
    "print(\"100 Tries Fitness Percent =\", agent.fitness(overall_average_reward))"
   ]
  },
  {
   "cell_type": "code",
   "execution_count": null,
   "metadata": {},
   "outputs": [],
   "source": [
    "import matplotlib.pyplot as plt\n",
    "plt.plot(np.arange(len(episode_rewards)), episode_rewards)\n",
    "plt.ylabel('Reward')\n",
    "plt.xlabel('Tries')\n",
    "plt.savefig(\"Fitness.png\")\n",
    "plt.show()"
   ]
  },
  {
   "cell_type": "code",
   "execution_count": null,
   "metadata": {},
   "outputs": [],
   "source": [
    "import matplotlib.pyplot as plt\n",
    "plt.plot(np.arange(len(episode_rewards)), sorted(episode_rewards))\n",
    "plt.ylabel('Reward')\n",
    "plt.xlabel('Sorted Tries')\n",
    "plt.savefig(\"Fitness.png\")\n",
    "plt.show()\n",
    "count = 0;\n",
    "for i in sorted(episode_rewards):\n",
    "    count +=1\n",
    "    if i>=200:\n",
    "        break\n",
    "print(\"Above 200 reward from the \", count, \" percentile\") "
   ]
  }
 ],
 "metadata": {
  "kernelspec": {
   "display_name": "Python 3",
   "language": "python",
   "name": "python3"
  },
  "language_info": {
   "codemirror_mode": {
    "name": "ipython",
    "version": 3
   },
   "file_extension": ".py",
   "mimetype": "text/x-python",
   "name": "python",
   "nbconvert_exporter": "python",
   "pygments_lexer": "ipython3",
   "version": "3.7.6"
  }
 },
 "nbformat": 4,
 "nbformat_minor": 4
}
