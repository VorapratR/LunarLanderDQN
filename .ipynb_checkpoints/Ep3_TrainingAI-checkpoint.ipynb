{
 "cells": [
  {
   "cell_type": "markdown",
   "metadata": {},
   "source": [
    "# Episode 3 - Training the AI\n",
    "\tเป็นขั้นตอนที่สำหรับมากในการพัฒนา AI เพื่อ AI จะเก่งไม่เก่งขึ้นอยู่กับขั้นตอนที่เป็นหลักโดยผู้จัทำได้เลือกใช้ DQNAgent ซึ่งเป็น library สำเร็จรูปสำหรับทำ Deep Q-network (DQN) ซึ่งเป็นหนึ่งใน algorithm ที่ง่ายของ Reinforcement learning (RL)"
   ]
  },
  {
   "cell_type": "code",
   "execution_count": 1,
   "metadata": {},
   "outputs": [],
   "source": [
    "import gym\n",
    "import matplotlib\n",
    "matplotlib.use('TkAgg')\n",
    "import matplotlib.pyplot as plt\n",
    "import numpy as np\n",
    "\n",
    "from gymclass import Notebook\n",
    "%matplotlib inline"
   ]
  },
  {
   "cell_type": "code",
   "execution_count": 2,
   "metadata": {},
   "outputs": [
    {
     "name": "stderr",
     "output_type": "stream",
     "text": [
      "/Users/millenniumfalcon/opt/anaconda3/lib/python3.7/site-packages/gym/logger.py:30: UserWarning: \u001b[33mWARN: Box bound precision lowered by casting to float32\u001b[0m\n",
      "  warnings.warn(colorize('%s: %s'%('WARN', msg % args), 'yellow'))\n"
     ]
    }
   ],
   "source": [
    "env = gym.make(\"LunarLander-v2\")\n",
    "env = env.unwrapped"
   ]
  },
  {
   "cell_type": "code",
   "execution_count": 5,
   "metadata": {},
   "outputs": [
    {
     "name": "stdout",
     "output_type": "stream",
     "text": [
      "CPU times: user 219 ms, sys: 58.5 ms, total: 278 ms\n",
      "Wall time: 461 ms\n"
     ]
    }
   ],
   "source": [
    "%%time\n",
    "from collections import deque\n",
    "from dqn_agent import DQNAgent\n",
    "import time\n",
    "\n",
    "# eps ย่อมาจาก \"Epsilon\" : จำนวนของ Agent ที่จะทำการสุ่ม\n",
    "\n",
    "eps_start=1.0\n",
    "eps_end=0.001\n",
    "eps_decay=0.995\n",
    "eps = eps_start  # initialize epsilon\n",
    "\n",
    "episode_rewards = [] # List of all rewards\n",
    "episode_rewards_window = deque(maxlen=100)  # last 100 scores\n",
    "\n",
    "\n",
    "# ผลลัพธ์ของการทดสอบ\n",
    "save_path = \"output/LunarLander-Train-Results.ckpt\"\n",
    "agent = DQNAgent(state_size=8, action_size=4, seed=0, hidden_layer1=64, hidden_layer2=108)\n",
    "\n",
    "episodes = 500 #จำนวนรอบที่จะ train"
   ]
  },
  {
   "cell_type": "code",
   "execution_count": 6,
   "metadata": {},
   "outputs": [
    {
     "data": {
      "application/vnd.jupyter.widget-view+json": {
       "model_id": "2d1afb10904941feb259a36c80cc3927",
       "version_major": 2,
       "version_minor": 0
      },
      "text/plain": [
       "VBox(children=(HTML(value=''), IntProgress(value=0, max=500)))"
      ]
     },
     "metadata": {},
     "output_type": "display_data"
    },
    {
     "name": "stdout",
     "output_type": "stream",
     "text": [
      " Episodes  499  Current Rolling Avg Reward  120.8022101040160401"
     ]
    }
   ],
   "source": [
    "for t in Notebook.log_progress(range(episodes)):\n",
    "    observation = env.reset()\n",
    "    episode_reward = 0\n",
    "    tic = time.perf_counter() \n",
    "    steps = 0\n",
    "    while True:\n",
    "        # 1. Choose an action based on observation        \n",
    "        action = agent.act(observation, eps)\n",
    "        \n",
    "        # 2. Take action in the environment\n",
    "        observation_next, reward, done, info = env.step(action)\n",
    "        \n",
    "        # 3. Now tell the agent about the action and reward so it can learn\n",
    "        agent.step(observation, action, reward, observation_next, done)\n",
    "        \n",
    "        steps = steps + 1        # Taking too long\n",
    "        if steps > 1000:\n",
    "            done = True\n",
    "\n",
    "        # Oops Crashed or flew away, stops early \n",
    "        if episode_reward<-500:\n",
    "            done = True\n",
    "\n",
    "        # After initial training quit early when things go wrong \n",
    "        # try to amplify good experience, remove random \n",
    "        if t>500 and episode_reward<-250:\n",
    "            done = True\n",
    "\n",
    "            \n",
    "        observation = observation_next\n",
    "        episode_reward += reward\n",
    "        if done:\n",
    "            break\n",
    "    # save scores and update epsilon which sets the amount of random exploration\n",
    "    episode_rewards_window.append(episode_reward)\n",
    "    episode_rewards.append(episode_reward)\n",
    "    eps = max(eps_end, eps_decay*eps)\n",
    "    raw = np.mean(episode_rewards_window)\n",
    "    print(\"\\r Episodes \", t, \" Current Rolling Avg Reward \", raw, end=\"\")   \n",
    "    if raw > 350:\n",
    "        break;"
   ]
  },
  {
   "cell_type": "code",
   "execution_count": null,
   "metadata": {},
   "outputs": [],
   "source": [
    "agent.save(save_path)  \n",
    "agent.save_bin(save_path+'.bin')  \n",
    "print(\"\")\n",
    "print(\"Done! Average Reward =\", np.mean(episode_rewards_window))\n",
    "print(\"Average Fitness Score =\", agent.fitness(np.mean(episode_rewards_window)))\n",
    "plt.plot(np.arange(len(episode_rewards)), episode_rewards)\n",
    "plt.ylabel('Reward')\n",
    "plt.xlabel('Training Steps')\n",
    "plt.savefig(\"reward-episodes-\" +str(episodes)+\".png\")\n",
    "plt.show()"
   ]
  }
 ],
 "metadata": {
  "kernelspec": {
   "display_name": "Python 3",
   "language": "python",
   "name": "python3"
  },
  "language_info": {
   "codemirror_mode": {
    "name": "ipython",
    "version": 3
   },
   "file_extension": ".py",
   "mimetype": "text/x-python",
   "name": "python",
   "nbconvert_exporter": "python",
   "pygments_lexer": "ipython3",
   "version": "3.7.6"
  }
 },
 "nbformat": 4,
 "nbformat_minor": 4
}
